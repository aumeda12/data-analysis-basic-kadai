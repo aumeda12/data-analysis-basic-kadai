{
  "nbformat": 4,
  "nbformat_minor": 0,
  "metadata": {
    "colab": {
      "provenance": []
    },
    "kernelspec": {
      "name": "python3",
      "display_name": "Python 3"
    },
    "language_info": {
      "name": "python"
    }
  },
  "cells": [
    {
      "cell_type": "code",
      "execution_count": 2,
      "metadata": {
        "colab": {
          "base_uri": "https://localhost:8080/"
        },
        "id": "R8YVCPym58q4",
        "outputId": "fb448541-0cef-4178-9404-22bd54a3b4dd"
      },
      "outputs": [
        {
          "output_type": "stream",
          "name": "stdout",
          "text": [
            "550.0円\n"
          ]
        }
      ],
      "source": [
        "def multiply_two_arguments(price, tax):\n",
        "    total = price * tax\n",
        "\n",
        "    print(f\"{total}円\")\n",
        "\n",
        "multiply_two_arguments(500, 1.1)\n"
      ]
    }
  ]
}