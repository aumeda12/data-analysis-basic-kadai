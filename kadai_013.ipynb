{
  "nbformat": 4,
  "nbformat_minor": 0,
  "metadata": {
    "colab": {
      "provenance": []
    },
    "kernelspec": {
      "name": "python3",
      "display_name": "Python 3"
    },
    "language_info": {
      "name": "python"
    }
  },
  "cells": [
    {
      "cell_type": "code",
      "execution_count": 6,
      "metadata": {
        "colab": {
          "base_uri": "https://localhost:8080/"
        },
        "id": "R8YVCPym58q4",
        "outputId": "4695e5cf-26c5-4e96-84fa-61cb6650d1d6"
      },
      "outputs": [
        {
          "output_type": "stream",
          "name": "stdout",
          "text": [
            "110.00000000000001円\n"
          ]
        }
      ],
      "source": [
        "def total_price(price, tax):\n",
        "    total = price * tax\n",
        "    return total\n",
        "\n",
        "total = total_price(100, 1.1)\n",
        "print(f\"{total}円\")"
      ]
    }
  ]
}