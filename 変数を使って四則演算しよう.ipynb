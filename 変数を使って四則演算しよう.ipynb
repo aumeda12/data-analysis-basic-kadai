{
  "nbformat": 4,
  "nbformat_minor": 0,
  "metadata": {
    "colab": {
      "provenance": []
    },
    "kernelspec": {
      "name": "python3",
      "display_name": "Python 3"
    },
    "language_info": {
      "name": "python"
    }
  },
  "cells": [
    {
      "cell_type": "code",
      "execution_count": 4,
      "metadata": {
        "colab": {
          "base_uri": "https://localhost:8080/"
        },
        "id": "a6dWIIyT-1lr",
        "outputId": "557d2c70-0588-4a66-e084-0fef8fb59ba2"
      },
      "outputs": [
        {
          "output_type": "stream",
          "name": "stdout",
          "text": [
            "台形の面積＝75.0㎠\n"
          ]
        }
      ],
      "source": [
        "upper_lengths = 10\n",
        "lower_lengths = 20\n",
        "height = 5\n",
        "\n",
        "print(f\"台形の面積＝{(upper_lengths + lower_lengths) * height / 2}㎠\")"
      ]
    }
  ]
}