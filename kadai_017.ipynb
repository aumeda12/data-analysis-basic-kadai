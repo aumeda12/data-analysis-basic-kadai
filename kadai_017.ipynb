{
  "nbformat": 4,
  "nbformat_minor": 0,
  "metadata": {
    "colab": {
      "provenance": []
    },
    "kernelspec": {
      "name": "python3",
      "display_name": "Python 3"
    },
    "language_info": {
      "name": "python"
    }
  },
  "cells": [
    {
      "cell_type": "code",
      "execution_count": 23,
      "metadata": {
        "colab": {
          "base_uri": "https://localhost:8080/"
        },
        "id": "BX5dWDBZPgS2",
        "outputId": "7eee1629-1d82-4f38-ede6-9f127f75891c"
      },
      "outputs": [
        {
          "output_type": "stream",
          "name": "stdout",
          "text": [
            "一郎は大人です\n",
            "次郎は大人です\n",
            "三郎は大人ではないです\n"
          ]
        }
      ],
      "source": [
        "class Human:\n",
        "    def __init__(self, name, age):\n",
        "        self.name = name\n",
        "        self.age = age\n",
        "\n",
        "    def check_adult(self):\n",
        "        if self.age >= 20:\n",
        "            return (f\"{self.name}は大人です\")\n",
        "        else:\n",
        "            return (f\"{(self.name)}は大人ではないです\")\n",
        "\n",
        "humans = [\n",
        "    Human(\"一郎\", 20),\n",
        "    Human(\"次郎\", 25),\n",
        "    Human(\"三郎\", 19)\n",
        "]\n",
        "\n",
        "for human in humans:\n",
        "    print(human.check_adult())\n"
      ]
    }
  ]
}