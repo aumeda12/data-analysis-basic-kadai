{
  "nbformat": 4,
  "nbformat_minor": 0,
  "metadata": {
    "colab": {
      "provenance": []
    },
    "kernelspec": {
      "name": "python3",
      "display_name": "Python 3"
    },
    "language_info": {
      "name": "python"
    }
  },
  "cells": [
    {
      "cell_type": "code",
      "execution_count": 114,
      "metadata": {
        "colab": {
          "base_uri": "https://localhost:8080/"
        },
        "id": "6l741uIEWR6l",
        "outputId": "abb70e19-0c59-4da8-9259-9aa1ac17fe62"
      },
      "outputs": [
        {
          "output_type": "stream",
          "name": "stdout",
          "text": [
            "Fizz\n",
            "6\n"
          ]
        }
      ],
      "source": [
        "import random\n",
        "\n",
        "var = random.randint(0, 15)\n",
        "\n",
        "if var % 3 == 0:\n",
        "  print(\"Fizz\")\n",
        "\n",
        "if var % 5 == 0:\n",
        "  print(\"Buzz\")\n",
        "\n",
        "if var % 3 == 0 and var % 5 == 0:\n",
        "  print(\"FizzBuzz\")\n",
        "\n",
        "else:\n",
        "  print(var)\n",
        "\n",
        "\n"
      ]
    }
  ]
}